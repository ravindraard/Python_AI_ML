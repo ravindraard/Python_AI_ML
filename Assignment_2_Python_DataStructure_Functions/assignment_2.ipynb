{
 "cells": [
  {
   "cell_type": "markdown",
   "metadata": {},
   "source": [
    "# Assignment - 2"
   ]
  },
  {
   "cell_type": "markdown",
   "metadata": {},
   "source": [
    "## Task - 1"
   ]
  },
  {
   "cell_type": "markdown",
   "metadata": {},
   "source": [
    "### 1.1 Write a Python Program to implement your own myreduce() function which works exactly likePython's built-in function reduce()"
   ]
  },
  {
   "cell_type": "code",
   "execution_count": 124,
   "metadata": {},
   "outputs": [],
   "source": [
    "def myreduce(funcName, anyList):\n",
    "    itr = iter(anyList);\n",
    "    try:\n",
    "        res = next(itr);\n",
    "    except StopIteration:\n",
    "        raise TypeError('reduce() of empty sequence with no initial value')\n",
    "    else:\n",
    "        for i in itr:\n",
    "            res = funcName(res, i)\n",
    "        return res;"
   ]
  },
  {
   "cell_type": "code",
   "execution_count": 36,
   "metadata": {},
   "outputs": [
    {
     "name": "stdout",
     "output_type": "stream",
     "text": [
      "6\n"
     ]
    }
   ],
   "source": [
    "x = range(7);\n",
    "l = myreduce(lambda a,b: a if a>b else b , x)\n",
    "print(l)"
   ]
  },
  {
   "cell_type": "code",
   "execution_count": 125,
   "metadata": {
    "scrolled": true
   },
   "outputs": [
    {
     "name": "stdout",
     "output_type": "stream",
     "text": [
      "15\n"
     ]
    }
   ],
   "source": [
    "x = range(1,6);\n",
    "l = myreduce(lambda a,b: a+b , x)\n",
    "print(l)"
   ]
  },
  {
   "cell_type": "markdown",
   "metadata": {},
   "source": [
    "### 1.2 Write a Python program to implement your own myfilter() function which works exactly like Python's built-in function filter()"
   ]
  },
  {
   "cell_type": "code",
   "execution_count": 64,
   "metadata": {},
   "outputs": [],
   "source": [
    "# pyhton filter func returns 'filter' object and here generator object is returned\n",
    "def myfilter(funcName, anyList):\n",
    "    itr = iter(anyList);\n",
    "    for i in itr:\n",
    "        if(funcName(i)):\n",
    "            yield i"
   ]
  },
  {
   "cell_type": "code",
   "execution_count": 68,
   "metadata": {},
   "outputs": [
    {
     "name": "stdout",
     "output_type": "stream",
     "text": [
      "[6, 7, 8, 9]\n"
     ]
    }
   ],
   "source": [
    "x = range(10);\n",
    "l = myfilter(lambda a: a>5 , x)\n",
    "print(list(l))"
   ]
  },
  {
   "cell_type": "code",
   "execution_count": 177,
   "metadata": {},
   "outputs": [
    {
     "name": "stdout",
     "output_type": "stream",
     "text": [
      "[0, 2, 4, 6, 8]\n"
     ]
    }
   ],
   "source": [
    "x = range(10);\n",
    "l = myfilter(lambda a: a%2==0 , x)\n",
    "print(list(l))"
   ]
  },
  {
   "cell_type": "markdown",
   "metadata": {},
   "source": [
    "### 2. Implement List comprehensions to produce the following lists"
   ]
  },
  {
   "cell_type": "markdown",
   "metadata": {},
   "source": [
    "### ['A', 'C', 'A', 'D', 'G', 'I', ’L’, ‘ D’]"
   ]
  },
  {
   "cell_type": "code",
   "execution_count": 172,
   "metadata": {},
   "outputs": [
    {
     "name": "stdout",
     "output_type": "stream",
     "text": [
      "['A', 'C', 'A', 'D', 'G', 'I', 'L', 'D']\n"
     ]
    }
   ],
   "source": [
    "output = [c for c in 'ACADGILD']\n",
    "print(output)"
   ]
  },
  {
   "cell_type": "markdown",
   "metadata": {},
   "source": [
    "### ['x', 'xx', 'xxx', 'xxxx', 'y', 'yy', 'yyy', 'yyyy', 'z', 'zz', 'zzz', 'zzzz']"
   ]
  },
  {
   "cell_type": "code",
   "execution_count": 174,
   "metadata": {},
   "outputs": [
    {
     "name": "stdout",
     "output_type": "stream",
     "text": [
      "['x', 'xx', 'xxx', 'xxxx', 'y', 'yy', 'yyy', 'yyyy', 'z', 'zz', 'zzz', 'zzzz']\n"
     ]
    }
   ],
   "source": [
    "output = [c*i for c in 'xyz' for i in range(1,5)]\n",
    "print(output)"
   ]
  },
  {
   "cell_type": "markdown",
   "metadata": {},
   "source": [
    "### ['x', 'y', 'z', 'xx', 'yy', 'zz', 'xx', 'yy', 'zz', 'xxxx', 'yyyy', 'zzzz']"
   ]
  },
  {
   "cell_type": "code",
   "execution_count": 175,
   "metadata": {},
   "outputs": [
    {
     "name": "stdout",
     "output_type": "stream",
     "text": [
      "['x', 'y', 'z', 'xx', 'yy', 'zz', 'xxx', 'yyy', 'zzz', 'xxxx', 'yyyy', 'zzzz']\n"
     ]
    }
   ],
   "source": [
    "output = [c*i for i in range(1,5) for c in 'xyz']\n",
    "print(output)"
   ]
  },
  {
   "cell_type": "markdown",
   "metadata": {},
   "source": [
    "### [[2], [3], [4], [3], [4], [5], [4], [5], [6]]"
   ]
  },
  {
   "cell_type": "code",
   "execution_count": 89,
   "metadata": {},
   "outputs": [
    {
     "name": "stdout",
     "output_type": "stream",
     "text": [
      "[[2], [3], [4], [3], [4], [5], [4], [5], [6]]\n"
     ]
    }
   ],
   "source": [
    "output = [[i+j] for j in range(3) for i in range(2,5)]\n",
    "print(output)"
   ]
  },
  {
   "cell_type": "markdown",
   "metadata": {},
   "source": [
    "### [[2, 3, 4, 5], [3, 4, 5, 6], [4, 5, 6, 7], [5, 6, 7, 8]]"
   ]
  },
  {
   "cell_type": "code",
   "execution_count": 94,
   "metadata": {},
   "outputs": [
    {
     "name": "stdout",
     "output_type": "stream",
     "text": [
      "[[2, 3, 4, 5], [3, 4, 5, 6], [4, 5, 6, 7], [5, 6, 7, 8]]\n"
     ]
    }
   ],
   "source": [
    "output = [list(range(i, i+4)) for i in range(2,6)]\n",
    "print(output)"
   ]
  },
  {
   "cell_type": "markdown",
   "metadata": {},
   "source": [
    "### [(1, 1), (2, 1), (3, 1), (1, 2), (2, 2), (3, 2), (1, 3), (2, 3), (3, 3)]"
   ]
  },
  {
   "cell_type": "code",
   "execution_count": 97,
   "metadata": {},
   "outputs": [
    {
     "name": "stdout",
     "output_type": "stream",
     "text": [
      "[(1, 1), (2, 1), (3, 1), (1, 2), (2, 2), (3, 2), (1, 3), (2, 3), (3, 3)]\n"
     ]
    }
   ],
   "source": [
    "output = [(i, j) for j in range(1,4) for i in range(1,4)]\n",
    "print(output)"
   ]
  },
  {
   "cell_type": "markdown",
   "metadata": {},
   "source": [
    "### 3. Implement a function longestWord() that takes a list of words and returns the longest one."
   ]
  },
  {
   "cell_type": "code",
   "execution_count": 126,
   "metadata": {},
   "outputs": [],
   "source": [
    "#Assumption - all the words lengths are different and if words with same length are passed then return the first one\n",
    "def longestWord(anyList):\n",
    "    itr = iter(anyList);\n",
    "    try:\n",
    "        longest = next(itr);\n",
    "    except StopIteration:\n",
    "        raise TypeError('empty list passed as param')\n",
    "    else:\n",
    "        for i in itr:\n",
    "            if(len(i) > len(longest)):\n",
    "                longest = i\n",
    "        return longest;"
   ]
  },
  {
   "cell_type": "code",
   "execution_count": 171,
   "metadata": {},
   "outputs": [
    {
     "name": "stdout",
     "output_type": "stream",
     "text": [
      "abcd\n",
      "abc\n"
     ]
    }
   ],
   "source": [
    "print(longestWord(['a', 'abc', 'ab', 'abcd']))\n",
    "print(longestWord(['a', 'abc', 'xyz']))"
   ]
  },
  {
   "cell_type": "markdown",
   "metadata": {},
   "source": [
    "## Task 2"
   ]
  },
  {
   "cell_type": "markdown",
   "metadata": {},
   "source": [
    "### 1.1 Write a Python Program(with class concepts) to find the area of the triangle using the below formula.\n",
    "### area = (s*(s-a)*(s-b)*(s-c)) ** 0.5\n",
    "### Function to take the length of the sides of triangle from user should be defined in the parent class and function to calculate the area should be defined in subclass."
   ]
  },
  {
   "cell_type": "code",
   "execution_count": 170,
   "metadata": {},
   "outputs": [
    {
     "name": "stdout",
     "output_type": "stream",
     "text": [
      "Enter 1st side of the triangle (a): 4\n",
      "Enter 2nd side of the triangle (b): 5\n",
      "Enter 3rd side of the triangle (c): 6\n",
      "Area of trangle: 49.21875\n"
     ]
    }
   ],
   "source": [
    "class Shape:\n",
    "    def readInput(self):\n",
    "        self.a = int(input(\"Enter 1st side of the triangle (a): \"))\n",
    "        self.b = int(input(\"Enter 2nd side of the triangle (b): \"))\n",
    "        self.c = int(input(\"Enter 3rd side of the triangle (c): \"))\n",
    "        self.s = (self.a + self.b + self.c)/2\n",
    "\n",
    "class Triangle(Shape):\n",
    "    def area(self):\n",
    "        print('Area of trangle: {}'.format((self.s*(self.s-self.a)*(self.s-self.b)*(self.s-self.c))*0.5))\n",
    "        \n",
    "triangle = Triangle()\n",
    "triangle.readInput()\n",
    "triangle.area()"
   ]
  },
  {
   "cell_type": "markdown",
   "metadata": {},
   "source": [
    "### 1.2 Write a function filter_long_words() that takes a list of words and an integer n and returns the list of words that are longer than n."
   ]
  },
  {
   "cell_type": "code",
   "execution_count": 167,
   "metadata": {},
   "outputs": [
    {
     "name": "stdout",
     "output_type": "stream",
     "text": [
      "['aaa', 'xxxx']\n"
     ]
    }
   ],
   "source": [
    "def filter_long_words(anyList, length):\n",
    "    res = []\n",
    "    for i in anyList:\n",
    "        if (len(i) > length):\n",
    "            res.append(i)\n",
    "    return res\n",
    "        \n",
    "print(list(filter_long_words(['a', 'aa', 'aaa', 'xxxx'], 2)))"
   ]
  },
  {
   "cell_type": "code",
   "execution_count": 164,
   "metadata": {},
   "outputs": [
    {
     "name": "stdout",
     "output_type": "stream",
     "text": [
      "['aa', 'aaa']\n"
     ]
    }
   ],
   "source": [
    "def filter_long_words_yield(anyList, length):\n",
    "    for i in anyList:\n",
    "        if (len(i) > length):\n",
    "            yield i\n",
    "        \n",
    "print(list(filter_long_words_yield(['a', 'aa', 'aaa'], 1)))"
   ]
  },
  {
   "cell_type": "markdown",
   "metadata": {},
   "source": [
    "### 2.1 Write a Python program using function concept that maps list of words into a list of integers representing the lengths of the corresponding words .\n",
    "### Hint: If a list [ ab,cde,erty] is passed on to the python function output should come as [2,3,4] Here 2,3 and 4 are the lengths of the words in the list."
   ]
  },
  {
   "cell_type": "code",
   "execution_count": 160,
   "metadata": {},
   "outputs": [
    {
     "name": "stdout",
     "output_type": "stream",
     "text": [
      "[4, 1, 2, 3]\n"
     ]
    }
   ],
   "source": [
    "# Normal implementation\n",
    "def map_length(anyList):\n",
    "    res = []\n",
    "    for i in anyList:\n",
    "        res.append(len(i))\n",
    "    return res\n",
    "\n",
    "print(map_length(['xxxx', 'a', 'aa', 'aaa']))"
   ]
  },
  {
   "cell_type": "code",
   "execution_count": 162,
   "metadata": {},
   "outputs": [
    {
     "name": "stdout",
     "output_type": "stream",
     "text": [
      "[4, 1, 2, 3]\n"
     ]
    }
   ],
   "source": [
    "# Using yield - to save memory\n",
    "def map_length_yield(anyList):\n",
    "    for i in anyList:\n",
    "        yield len(i)\n",
    "\n",
    "print(list(map_length_yield(['xxxx', 'a', 'aa', 'aaa'])))"
   ]
  },
  {
   "cell_type": "markdown",
   "metadata": {},
   "source": [
    "### 2.2 Write a Python function which takes a character (i.e. a string of length 1) and returns True if it is a vowel, False otherwise."
   ]
  },
  {
   "cell_type": "code",
   "execution_count": 158,
   "metadata": {},
   "outputs": [
    {
     "name": "stdout",
     "output_type": "stream",
     "text": [
      "True\n",
      "False\n",
      "False\n",
      "False\n",
      "True\n"
     ]
    }
   ],
   "source": [
    "def isVowel(char):\n",
    "    #char = str(char).lower()\n",
    "    for c in 'aeiouAEIOU':\n",
    "        if(c == char):\n",
    "            return True\n",
    "    else:\n",
    "        return False\n",
    "    \n",
    "print(isVowel('A'))\n",
    "print(isVowel('X'))\n",
    "print(isVowel('1'))\n",
    "print(isVowel('%'))\n",
    "print(isVowel('U'))"
   ]
  }
 ],
 "metadata": {
  "kernelspec": {
   "display_name": "Python 3",
   "language": "python",
   "name": "python3"
  },
  "language_info": {
   "codemirror_mode": {
    "name": "ipython",
    "version": 3
   },
   "file_extension": ".py",
   "mimetype": "text/x-python",
   "name": "python",
   "nbconvert_exporter": "python",
   "pygments_lexer": "ipython3",
   "version": "3.7.4"
  }
 },
 "nbformat": 4,
 "nbformat_minor": 2
}
