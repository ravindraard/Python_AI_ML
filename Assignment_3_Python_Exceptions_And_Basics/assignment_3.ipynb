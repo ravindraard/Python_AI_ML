{
 "cells": [
  {
   "cell_type": "markdown",
   "metadata": {},
   "source": [
    "# Assignment 3"
   ]
  },
  {
   "cell_type": "markdown",
   "metadata": {},
   "source": [
    "## Task 1"
   ]
  },
  {
   "cell_type": "markdown",
   "metadata": {},
   "source": [
    "#### 1. Write a function to compute 5/0 and use try/except to catch the exceptions"
   ]
  },
  {
   "cell_type": "code",
   "execution_count": 7,
   "metadata": {},
   "outputs": [
    {
     "name": "stdout",
     "output_type": "stream",
     "text": [
      "division by zero\n",
      "Executed successfully!!\n"
     ]
    }
   ],
   "source": [
    "def exceptionFunc():\n",
    "    try:\n",
    "        res = 5/0\n",
    "    except Exception as e:\n",
    "        print(e)\n",
    "    print('Executed successfully!!')\n",
    "        \n",
    "exceptionFunc()"
   ]
  },
  {
   "cell_type": "markdown",
   "metadata": {},
   "source": [
    "#### 2. Implement a Python program to generate all sentences where subject is in [\"Americans\", \"Indians\"] and verb is in [\"Play\", \"watch\"] and the object is in [\"Baseball\",\"cricket\"]. "
   ]
  },
  {
   "cell_type": "code",
   "execution_count": 6,
   "metadata": {},
   "outputs": [
    {
     "name": "stdout",
     "output_type": "stream",
     "text": [
      "Americans play Baseball.\n",
      "Americans play Cricket.\n",
      "Americans watch Baseball.\n",
      "Americans watch Cricket.\n",
      "Indians play Baseball.\n",
      "Indians play Cricket.\n",
      "Indians watch Baseball.\n",
      "Indians watch Cricket.\n"
     ]
    }
   ],
   "source": [
    "subjects=[\"Americans\",\"Indians\"]\n",
    "verbs=[\"play\",\"watch\"]\n",
    "objects=[\"Baseball\",\"Cricket\"]\n",
    "    \n",
    "res = [ x+' '+y+' '+z+'.' for x in subjects for y in verbs for z in objects]\n",
    "for i in res:\n",
    "    print(i)"
   ]
  },
  {
   "cell_type": "markdown",
   "metadata": {},
   "source": [
    "## Task 2"
   ]
  },
  {
   "cell_type": "markdown",
   "metadata": {},
   "source": [
    "#### 1. Write a function so that the columns of the output matrix are powers of the input vector. \n",
    "#### The order of the powers is determined by the increasing boolean argument. Specifically, when increasing is False, the i-th output column is the input vector raised element-wise to the power of N - i - 1."
   ]
  },
  {
   "cell_type": "code",
   "execution_count": 49,
   "metadata": {},
   "outputs": [
    {
     "data": {
      "text/plain": [
       "array([[1, 1, 1],\n",
       "       [1, 2, 4],\n",
       "       [1, 3, 9]])"
      ]
     },
     "execution_count": 49,
     "metadata": {},
     "output_type": "execute_result"
    }
   ],
   "source": [
    "# Using numpy\n",
    "import numpy as np\n",
    "\n",
    "vector = np.array([1,2,3])\n",
    "np.vander(vector, 3, True)"
   ]
  },
  {
   "cell_type": "code",
   "execution_count": 50,
   "metadata": {},
   "outputs": [
    {
     "data": {
      "text/plain": [
       "array([[1, 1, 1],\n",
       "       [4, 2, 1],\n",
       "       [9, 3, 1]])"
      ]
     },
     "execution_count": 50,
     "metadata": {},
     "output_type": "execute_result"
    }
   ],
   "source": [
    "vector = np.array([1,2,3])\n",
    "np.vander(vector, 3, False)"
   ]
  },
  {
   "cell_type": "code",
   "execution_count": 45,
   "metadata": {},
   "outputs": [],
   "source": [
    "# without using any library\n",
    "\n",
    "def vandermonde():\n",
    "    inputStr = input('Enter input vector as comma separated value: ')\n",
    "    size = int(input('Matrix column length: '))\n",
    "    order = input('Is increasing order: ')\n",
    "    inputVector = inputStr.split(',')\n",
    "    output = []\n",
    "    for i in inputVector:\n",
    "        if(order == 'True'):\n",
    "            temp = [1]\n",
    "            index = 1\n",
    "            while(index < size):            \n",
    "                temp.append(int(i)**index)\n",
    "                index = index + 1\n",
    "            output.append(temp)\n",
    "        else:\n",
    "            temp = []\n",
    "            index = size-1\n",
    "            while(index > 0):            \n",
    "                temp.append(int(i)**index)\n",
    "                index = index - 1\n",
    "            temp.append(1)\n",
    "            output.append(temp)\n",
    "    \n",
    "    print(*output, sep='\\n')\n",
    "    #f1or x in output:\n",
    "            #print(x)          "
   ]
  },
  {
   "cell_type": "code",
   "execution_count": 46,
   "metadata": {},
   "outputs": [
    {
     "name": "stdout",
     "output_type": "stream",
     "text": [
      "Enter input vector as comma separated value: 1,2,3\n",
      "Matrix column length: 3\n",
      "Is increasing order: True\n",
      "[1, 1, 1]\n",
      "[1, 2, 4]\n",
      "[1, 3, 9]\n"
     ]
    }
   ],
   "source": [
    "vandermonde()"
   ]
  },
  {
   "cell_type": "code",
   "execution_count": 47,
   "metadata": {},
   "outputs": [
    {
     "name": "stdout",
     "output_type": "stream",
     "text": [
      "Enter input vector as comma separated value: 1,2,3\n",
      "Matrix column length: 3\n",
      "Is increasing order: False\n",
      "[1, 1, 1]\n",
      "[4, 2, 1]\n",
      "[9, 3, 1]\n"
     ]
    }
   ],
   "source": [
    "vandermonde()"
   ]
  }
 ],
 "metadata": {
  "kernelspec": {
   "display_name": "Python 3",
   "language": "python",
   "name": "python3"
  },
  "language_info": {
   "codemirror_mode": {
    "name": "ipython",
    "version": 3
   },
   "file_extension": ".py",
   "mimetype": "text/x-python",
   "name": "python",
   "nbconvert_exporter": "python",
   "pygments_lexer": "ipython3",
   "version": "3.7.4"
  }
 },
 "nbformat": 4,
 "nbformat_minor": 2
}
